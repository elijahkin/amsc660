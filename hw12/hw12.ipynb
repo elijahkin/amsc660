{
 "cells": [
  {
   "cell_type": "code",
   "execution_count": 1,
   "id": "d540d8bc-e24c-44c8-89fd-947db02297a2",
   "metadata": {},
   "outputs": [],
   "source": [
    "import numpy as np\n",
    "import matplotlib.pyplot as plt\n",
    "import scipy.io\n",
    "from Levenberg_Marquardt import LevenbergMarquardt, Loss"
   ]
  },
  {
   "cell_type": "code",
   "execution_count": 2,
   "id": "5df35b00-5178-43ff-a6dd-1a7a76a49977",
   "metadata": {},
   "outputs": [
    {
     "name": "stdout",
     "output_type": "stream",
     "text": [
      "(20, 20, 60000)\n",
      "(20, 20, 10000)\n",
      "(60000,)\n",
      "(10000,)\n",
      "[5 0 4 1 9 2 1 3 1 4 3 5 3 6 1 7 2 8 6 9 4 0 9 1 1 2 4 3 2 7 3 8 6 9 0 5 6\n",
      " 0 7 6 1 8 7 9 3 9 8 5 9 3 3 0 7 4 9 8 0 9 4 1 4 4 6 0 4 5 6 1 0 0 1 7 1 6\n",
      " 3 0 2 1 1 7 9 0 2 6 7 8 3 9 0 4 6 7 4 6 8 0 7 8 3 1]\n"
     ]
    }
   ],
   "source": [
    "# Read mnist data from the mat file\n",
    "mnist_data = scipy.io.loadmat('mnist2.mat')\n",
    "imgs_train = mnist_data['imgs_train']\n",
    "imgs_test = mnist_data['imgs_test']\n",
    "labels_train = np.squeeze(mnist_data['labels_train'])\n",
    "labels_test = np.squeeze(mnist_data['labels_test'])\n",
    "print(np.shape(imgs_train))\n",
    "print(np.shape(imgs_test))\n",
    "print(np.shape(labels_train))\n",
    "print(np.shape(labels_test))\n",
    "print(labels_train[:100])\n",
    "d1, d2, N = np.shape(imgs_train)"
   ]
  },
  {
   "cell_type": "code",
   "execution_count": 3,
   "id": "dc44bc75-e55d-4e04-a954-6504d2cc3c29",
   "metadata": {},
   "outputs": [],
   "source": [
    "# Select images of 1 and 7\n",
    "Itrain_1 = np.where(labels_train == 1)\n",
    "Itrain_7 = np.where(labels_train == 7)\n",
    "Itest_1 = np.where(labels_test == 1)\n",
    "Itest_7 = np.where(labels_test == 7)\n",
    "imgs_train_1 = np.squeeze(imgs_train[:,:,Itrain_1])\n",
    "imgs_train_7 = np.squeeze(imgs_train[:,:,Itrain_7])\n",
    "imgs_test_1 = np.squeeze(imgs_test[:,:,Itest_1])\n",
    "imgs_test_7 = np.squeeze(imgs_test[:,:,Itest_7])\n",
    "Ntrain_1 = np.size(Itrain_1)\n",
    "Ntrain_7 = np.size(Itrain_7)\n",
    "Ntest_1 = np.size(Itest_1)\n",
    "Ntest_7 = np.size(Itest_7)"
   ]
  },
  {
   "cell_type": "code",
   "execution_count": 4,
   "id": "faad4269-15c9-4dee-9f29-5d931be24ed4",
   "metadata": {},
   "outputs": [],
   "source": [
    "# Define functions for finding the optimal dividing surface\n",
    "def logloss_quadratic(X, y, w):\n",
    "    return 0.5 * np.sum((np.log(1 + np.exp(-myquadratic(X, y, w))))**2)\n",
    "\n",
    "def Res_and_Jac(X, y, w):\n",
    "    # the vector of residuals r\n",
    "    aux = np.exp(-myquadratic(X, y, w))\n",
    "    r = np.log(1 + aux)\n",
    "    # the Jacobian matrix J[i,j] = dr[i]/dx[j]\n",
    "    a = -aux / (1 + aux)\n",
    "    n,d = np.shape(X)\n",
    "    d2 = d * d\n",
    "    ya = y * a\n",
    "    qterm = np.zeros((n, d2))\n",
    "    for k in range(n):\n",
    "        xk = X[k, :]\n",
    "        xx = np.outer(xk, xk)\n",
    "        qterm[k, :] = np.reshape(xx, (np.size(xx),))\n",
    "    J = np.concatenate((qterm, X, np.ones((n, 1))), axis=1)\n",
    "    for k in range(n):\n",
    "        J[k, :] = J[k, :] * ya[k]\n",
    "    return r, J\n",
    "\n",
    "def myquadratic(X, y, w):\n",
    "    d = np.size(X, axis=1)\n",
    "    d2 = d * d\n",
    "    W = np.reshape(w[:d2], (d, d))\n",
    "    v = w[d2 : d2 + d]\n",
    "    b = w[-1]\n",
    "    qterm = np.diag(X @ W @ np.transpose(X))\n",
    "    q = y * qterm + (np.outer(y, np.ones((d,))) * X) @ v + y * b\n",
    "    return q"
   ]
  },
  {
   "cell_type": "code",
   "execution_count": 5,
   "id": "259a5a32-bc33-46ef-aa49-1c9a2816f8fe",
   "metadata": {},
   "outputs": [],
   "source": [
    "dd = d1 * d2\n",
    "\n",
    "# Prepare the train set\n",
    "X1_train = np.zeros((Ntrain_1, dd))\n",
    "for j in range(Ntrain_1):\n",
    "    img = np.squeeze(imgs_train_1[:, :, j])\n",
    "    X1_train[j, :] = np.reshape(img, (dd,))\n",
    "\n",
    "X7_train = np.zeros((Ntrain_7, dd))\n",
    "for j in range(Ntrain_7):\n",
    "    img = np.squeeze(imgs_train_7[:, :, j])\n",
    "    X7_train[j, :] = np.reshape(img, (dd,))\n",
    "\n",
    "X_train = np.concatenate((X1_train, X7_train), axis=0)\n",
    "U, S, Vtrans = np.linalg.svd(X_train, full_matrices=False)\n",
    "V = np.transpose(Vtrans)\n",
    "\n",
    "# Prepare the test set\n",
    "X1_test = np.zeros((Ntest_1, dd))\n",
    "for j in range(Ntest_1):\n",
    "    img = np.squeeze(imgs_test_1[:, :, j])\n",
    "    X1_test[j, :] = np.reshape(img, (dd,))\n",
    "\n",
    "X7_test = np.zeros((Ntest_7, dd))\n",
    "for j in range(Ntest_7):\n",
    "    img = np.squeeze(imgs_test_7[:, :, j])\n",
    "    X7_test[j, :] = np.reshape(img, (dd,))\n",
    "\n",
    "X_test = np.concatenate((X1_test, X7_test), axis=0)"
   ]
  },
  {
   "cell_type": "code",
   "execution_count": 6,
   "id": "cbbf4cc0-5ada-43b4-bda4-f6fb6b402887",
   "metadata": {},
   "outputs": [],
   "source": [
    "# prepare labels for the train and test sets: ones have label 1, sevens have label -1\n",
    "Ntrain = Ntrain_1 + Ntrain_7\n",
    "Ntest = Ntest_1 + Ntest_7\n",
    "lbl_train = np.ones((Ntrain,))\n",
    "lbl_train[Ntrain_1:] = -1\n",
    "lbl_test = np.ones((Ntest,))\n",
    "lbl_test[Ntest_1:] = -1"
   ]
  },
  {
   "cell_type": "code",
   "execution_count": 7,
   "id": "c9f3caf6",
   "metadata": {},
   "outputs": [],
   "source": [
    "def plot_loss_and_grad(loss, norm_grad_loss):\n",
    "  fig, (ax1, ax2) = plt.subplots(2, 1)\n",
    "\n",
    "  ax1.plot(loss)\n",
    "  ax1.set_xlabel('Iteration #')\n",
    "  ax1.set_ylabel('Loss')\n",
    "  ax1.set_yscale('log')\n",
    "\n",
    "  ax2.plot(norm_grad_loss)\n",
    "  ax2.set_xlabel('Iteration #')\n",
    "  ax2.set_ylabel('||grad Loss||')\n",
    "  ax2.set_yscale('log')\n",
    "\n",
    "  plt.tight_layout()\n",
    "  plt.show()"
   ]
  },
  {
   "cell_type": "markdown",
   "id": "de7540ab",
   "metadata": {},
   "source": [
    "### Task 1 (PCA)"
   ]
  },
  {
   "cell_type": "code",
   "execution_count": 8,
   "id": "f0070beb-aba5-4d20-b10c-bd21a687df44",
   "metadata": {},
   "outputs": [],
   "source": [
    "# Use PCA to reduce the dimensionality to NPCA\n",
    "def pca_misclassified(d, X_train, X_test, y_train, y_test):\n",
    "    X_train_pca = X_train @ V[:, :d]\n",
    "    X_test_pca = X_test @ V[:, :d]\n",
    "\n",
    "    # Call Levenberg-Marquardt\n",
    "    def r_and_J(w):\n",
    "        return Res_and_Jac(X_train_pca, y_train, w)\n",
    "\n",
    "    # The quadratic surface is of the form x^\\top W x + v x + b\n",
    "    # The total number of parameters in W, v, b is d^2 + d + 1\n",
    "    # The initial guess: all parameters are ones\n",
    "    w = np.ones((d * d + d + 1,))\n",
    "    iter_max = 600\n",
    "    tol = 1e-3\n",
    "    w, Loss_vals, gradnorm_vals = LevenbergMarquardt(r_and_J, w, iter_max, tol)\n",
    "\n",
    "    # Apply the learned classifier to the test set\n",
    "    test = myquadratic(X_test_pca, y_test, w)\n",
    "    misses = np.argwhere(test < 0)\n",
    "    print(f'TEST SET: {len(misses)} are misclassified with NPCA = {d}')\n",
    "\n",
    "    # Plot the loss function and the norm of its gradient\n",
    "    # plot_loss_and_grad(Loss_vals, gradnorm_vals)\n",
    "    return len(misses)"
   ]
  },
  {
   "cell_type": "code",
   "execution_count": 9,
   "id": "3e5aa92e",
   "metadata": {},
   "outputs": [
    {
     "name": "stdout",
     "output_type": "stream",
     "text": [
      "TEST SET: 33 are misclassified with NPCA = 5\n",
      "TEST SET: 22 are misclassified with NPCA = 10\n",
      "TEST SET: 21 are misclassified with NPCA = 15\n",
      "TEST SET: 11 are misclassified with NPCA = 20\n",
      "TEST SET: 10 are misclassified with NPCA = 25\n"
     ]
    }
   ],
   "source": [
    "misclassified = []\n",
    "npcas = range(5, 30, 5)\n",
    "for npca in npcas:\n",
    "  misclassified.append(pca_misclassified(npca, X_train, X_test, lbl_train, lbl_test))"
   ]
  },
  {
   "cell_type": "code",
   "execution_count": 10,
   "id": "b4f258cd",
   "metadata": {},
   "outputs": [
    {
     "data": {
      "image/png": "[encoded data removed]",
      "text/plain": [
       "<Figure size 640x480 with 1 Axes>"
      ]
     },
     "metadata": {},
     "output_type": "display_data"
    }
   ],
   "source": [
    "plt.plot(npcas, misclassified)\n",
    "plt.xlabel('# PCAs')\n",
    "plt.ylabel('# Misclassified Digits')\n",
    "plt.show()"
   ]
  },
  {
   "cell_type": "markdown",
   "id": "abaca00b",
   "metadata": {},
   "source": [
    "### Task 2 (Gauss-Newton)"
   ]
  },
  {
   "cell_type": "code",
   "execution_count": 11,
   "id": "9748b9ff",
   "metadata": {},
   "outputs": [],
   "source": [
    "def GaussNewton(Res_and_Jac, w, ITER_MAX, TOL):\n",
    "  losses = []\n",
    "  grad_norms = []\n",
    "\n",
    "  iter = 1\n",
    "  while iter < ITER_MAX:\n",
    "    r, J = Res_and_Jac(w)\n",
    "    grad = J.T @ r\n",
    "    losses.append(Loss(r))\n",
    "    grad_norms.append(np.linalg.norm(grad))\n",
    "\n",
    "    if grad_norms[-1] < TOL:\n",
    "      break\n",
    "\n",
    "    p = np.linalg.solve(J.T @ J + np.eye(len(w)) * 1e-6, -grad)\n",
    "    w += p\n",
    "    iter += 1\n",
    "  return w, losses, grad_norms"
   ]
  },
  {
   "cell_type": "code",
   "execution_count": 12,
   "id": "924fdb70",
   "metadata": {},
   "outputs": [],
   "source": [
    "d = 20\n",
    "X_train_pca = X_train @ V[:, :d]\n",
    "X_test_pca = X_test @ V[:, :d]\n",
    "\n",
    "# Call Levenberg-Marquardt\n",
    "def r_and_J(w):\n",
    "    return Res_and_Jac(X_train_pca, lbl_train, w)\n",
    "\n",
    "# The quadratic surface is of the form x^\\top W x + v x + b\n",
    "# The total number of parameters in W, v, b is d^2 + d + 1\n",
    "# The initial guess: all parameters are ones\n",
    "w = np.ones((d * d + d + 1,))\n",
    "iter_max = 600\n",
    "tol = 1e-3\n",
    "w, Loss_vals, gradnorm_vals = GaussNewton(r_and_J, w, iter_max, tol)"
   ]
  },
  {
   "cell_type": "code",
   "execution_count": 13,
   "id": "455c8e1c",
   "metadata": {},
   "outputs": [
    {
     "name": "stdout",
     "output_type": "stream",
     "text": [
      "TEST SET: 20 are misclassified with NPCA = 20\n"
     ]
    }
   ],
   "source": [
    "test = myquadratic(X_test_pca, lbl_test, w)\n",
    "misses = np.argwhere(test < 0)\n",
    "print(f'TEST SET: {len(misses)} are misclassified with NPCA = {d}')"
   ]
  },
  {
   "cell_type": "markdown",
   "id": "8b83b8d9",
   "metadata": {},
   "source": [
    "### Task 3 (Stochastic Gradient Descent)"
   ]
  },
  {
   "cell_type": "code",
   "execution_count": null,
   "id": "7b213196",
   "metadata": {},
   "outputs": [],
   "source": []
  }
 ],
 "metadata": {
  "kernelspec": {
   "display_name": "Python 3",
   "language": "python",
   "name": "python3"
  },
  "language_info": {
   "codemirror_mode": {
    "name": "ipython",
    "version": 3
   },
   "file_extension": ".py",
   "mimetype": "text/x-python",
   "name": "python",
   "nbconvert_exporter": "python",
   "pygments_lexer": "ipython3",
   "version": "3.9.5"
  }
 },
 "nbformat": 4,
 "nbformat_minor": 5
}
