{
 "cells": [
  {
   "cell_type": "code",
   "execution_count": 1,
   "metadata": {},
   "outputs": [],
   "source": [
    "import numpy as np\n",
    "import scipy"
   ]
  },
  {
   "cell_type": "markdown",
   "metadata": {},
   "source": [
    "### 1. (a) Inverse via Gauss-Jordan"
   ]
  },
  {
   "cell_type": "code",
   "execution_count": 2,
   "metadata": {},
   "outputs": [],
   "source": [
    "# Compute the inverse of a matrix via Gauss-Jordan (with no pivoting)\n",
    "def inv(A):\n",
    "  n = len(A)\n",
    "  A_aug = np.concatenate((A, np.identity(n)), axis=1)\n",
    "\n",
    "  for i in range(n):\n",
    "    scale = A_aug[i][i]\n",
    "    for j in range(2 * n):\n",
    "      A_aug[i][j] /= scale\n",
    "    for k in range(n):\n",
    "      scale2 = A_aug[k][i]\n",
    "      if k != i:\n",
    "        for j in range(2 * n):\n",
    "          A_aug[k][j] -= scale2 * A_aug[i][j]\n",
    "  return A_aug[:, n:]"
   ]
  },
  {
   "cell_type": "code",
   "execution_count": 3,
   "metadata": {},
   "outputs": [
    {
     "name": "stdout",
     "output_type": "stream",
     "text": [
      "[[ 1.00000000e+00 -3.80490138e-15  1.32735205e-14]\n",
      " [ 1.69274405e-16  1.00000000e+00  1.83041481e-15]\n",
      " [ 4.84647097e-17 -3.67012229e-16  1.00000000e+00]]\n"
     ]
    }
   ],
   "source": [
    "n = 3\n",
    "\n",
    "A = np.random.rand(n, n)\n",
    "A_inv = inv(A)\n",
    "\n",
    "# We expect something close the the identity matrix\n",
    "print(A @ A_inv)"
   ]
  },
  {
   "cell_type": "markdown",
   "metadata": {},
   "source": [
    "### 1. (b) Inverse via LU"
   ]
  },
  {
   "cell_type": "code",
   "execution_count": 4,
   "metadata": {},
   "outputs": [],
   "source": [
    "# Compute the inverse of a lower triangular matrix\n",
    "def tril_inv(L):\n",
    "  n = len(L)\n",
    "  L_inv = np.zeros((n, n))\n",
    "\n",
    "  for i in range(n):\n",
    "    L_inv[i][i] = 1 / L[i][i]\n",
    "    for j in range(i):\n",
    "      dot = 0\n",
    "      for k in range(j, i):\n",
    "        dot -= L[i][k] * L_inv[k][j]\n",
    "      dot /= L[i][i]\n",
    "      L_inv[i][j] = dot\n",
    "  return L_inv"
   ]
  },
  {
   "cell_type": "code",
   "execution_count": 5,
   "metadata": {},
   "outputs": [],
   "source": [
    "# Compute the inverse of an upper triangular matrix\n",
    "def triu_inv(U):\n",
    "  return tril_inv(U.T).T"
   ]
  },
  {
   "cell_type": "code",
   "execution_count": 6,
   "metadata": {},
   "outputs": [],
   "source": [
    "# Multiply upper and lower triangular matrices\n",
    "def tri_matmul(U, L):\n",
    "  n = len(U)\n",
    "  A = np.zeros((n, n))\n",
    "\n",
    "  for i in range(n):\n",
    "    for j in range(n):\n",
    "      dot = 0\n",
    "      for k in range(max(i, j), n):\n",
    "        dot += U[i][k] * L[k][j]\n",
    "      A[i][j] = dot\n",
    "  return A"
   ]
  },
  {
   "cell_type": "code",
   "execution_count": 7,
   "metadata": {},
   "outputs": [],
   "source": [
    "# Compute the inverse of an arbitrary matrix using the above\n",
    "def inv_lu(A):\n",
    "  _, L, U = scipy.linalg.lu(A)\n",
    "  return tri_matmul(triu_inv(U), tril_inv(L))"
   ]
  },
  {
   "cell_type": "code",
   "execution_count": 8,
   "metadata": {},
   "outputs": [
    {
     "name": "stdout",
     "output_type": "stream",
     "text": [
      "[[-1.24265267e-16  3.68600672e-16  1.00000000e+00  2.28318536e-17]\n",
      " [-6.62225172e-16  1.00000000e+00  4.02138904e-16  4.27819125e-16]\n",
      " [ 1.00000000e+00 -1.06393104e-15  5.90768867e-16  7.73417831e-16]\n",
      " [-7.81485215e-16 -6.06928075e-16  5.27345596e-16  1.00000000e+00]]\n"
     ]
    }
   ],
   "source": [
    "n = 4\n",
    "\n",
    "A = np.random.rand(n, n)\n",
    "A_inv = inv_lu(A)\n",
    "\n",
    "# Again, we expect a (likely permuted) identity matrix\n",
    "print(A @ A_inv)"
   ]
  },
  {
   "cell_type": "markdown",
   "metadata": {},
   "source": [
    "### 3. (a) Cholesky Algorithm"
   ]
  },
  {
   "cell_type": "code",
   "execution_count": 9,
   "metadata": {},
   "outputs": [],
   "source": [
    "# Compute Cholesky decomposition; terminate on non-positve diagonal entries\n",
    "def cholesky(A):\n",
    "  n = len(A)\n",
    "  L = np.zeros((n, n))\n",
    "\n",
    "  for j in range(n):\n",
    "    L[j][j] = A[j][j]\n",
    "    for k in range(j):\n",
    "      L[j][j] -= L[j][k] ** 2\n",
    "    if L[j][j] <= 0:\n",
    "      print(\"The matrix is not positive definite\")\n",
    "      return None\n",
    "    L[j][j] = np.sqrt(L[j][j])\n",
    "    for i in range(j + 1, n):\n",
    "      L[i][j] = A[i][j]\n",
    "      for k in range(j):\n",
    "        L[i][j] -= L[i][k] * L[j][k]\n",
    "      L[i][j] /= L[j][j]\n",
    "  return L"
   ]
  },
  {
   "cell_type": "markdown",
   "metadata": {},
   "source": [
    "### 3. (b) Cholesky for $\\tilde{A} + \\tilde{A}^\\top$"
   ]
  },
  {
   "cell_type": "code",
   "execution_count": 10,
   "metadata": {},
   "outputs": [
    {
     "name": "stdout",
     "output_type": "stream",
     "text": [
      "The matrix is not positive definite\n"
     ]
    }
   ],
   "source": [
    "At = np.random.rand(100, 100)\n",
    "A = At + At.T\n",
    "\n",
    "# We do NOT expect A to be symmetric positive definite\n",
    "L = cholesky(A)"
   ]
  },
  {
   "cell_type": "code",
   "execution_count": 11,
   "metadata": {},
   "outputs": [
    {
     "name": "stdout",
     "output_type": "stream",
     "text": [
      "-7.9757142895093205\n"
     ]
    }
   ],
   "source": [
    "# Provided minimal eigenvalue <= 0, our conclusion is correct\n",
    "evals, evecs = np.linalg.eig(A)\n",
    "print(np.min(evals))"
   ]
  },
  {
   "cell_type": "markdown",
   "metadata": {},
   "source": [
    "### 3. (c) Cholesky for $\\tilde{A}^\\top \\tilde{A}$"
   ]
  },
  {
   "cell_type": "code",
   "execution_count": 12,
   "metadata": {},
   "outputs": [],
   "source": [
    "At = np.random.rand(100, 100)\n",
    "A = At.T @ At\n",
    "\n",
    "# We expect A to be symmetric positive definite\n",
    "L = cholesky(A)"
   ]
  },
  {
   "cell_type": "code",
   "execution_count": 13,
   "metadata": {},
   "outputs": [
    {
     "name": "stdout",
     "output_type": "stream",
     "text": [
      "2.996038104490378e-12\n"
     ]
    }
   ],
   "source": [
    "# Compare norms of Cholesky with my command and standard one\n",
    "L_std = np.linalg.cholesky(A)\n",
    "print(np.linalg.norm(L - L_std))"
   ]
  }
 ],
 "metadata": {
  "kernelspec": {
   "display_name": "Python 3",
   "language": "python",
   "name": "python3"
  },
  "language_info": {
   "codemirror_mode": {
    "name": "ipython",
    "version": 3
   },
   "file_extension": ".py",
   "mimetype": "text/x-python",
   "name": "python",
   "nbconvert_exporter": "python",
   "pygments_lexer": "ipython3",
   "version": "3.9.5"
  }
 },
 "nbformat": 4,
 "nbformat_minor": 2
}
